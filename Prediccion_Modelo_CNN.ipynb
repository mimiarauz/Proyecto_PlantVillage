{
  "cells": [
    {
      "cell_type": "markdown",
      "metadata": {},
      "source": [
        "#  Predicción de imágenes nuevas — Modelo CNN PlantVillage\n",
        "Este notebook permite cargar el modelo entrenado (`modelo_cultivos.h5`) y realizar predicciones sobre imágenes nuevas de hojas.\n",
        "\n",
        "##  Funciones principales\n",
        "- Cargar el modelo y clases (`classes.npy`).\n",
        "- Seleccionar una imagen desde tu computadora.\n",
        "- Mostrar la imagen.\n",
        "- Preprocesarla y obtener predicción con porcentaje de confianza.\n"
      ]
    },
    {
      "cell_type": "code",
      "execution_count": null,
      "metadata": {},
      "outputs": [],
      "source": [
        "# 1️ Importar librerías\n",
        "import numpy as np\n",
        "import tensorflow as tf\n",
        "from tensorflow.keras.models import load_model\n",
        "from tensorflow.keras.preprocessing import image\n",
        "from tkinter import Tk, Button, Label, filedialog\n",
        "from PIL import Image, ImageTk\n",
        "import matplotlib.pyplot as plt\n",
        "\n",
        "print('TensorFlow version:', tf.__version__)"
      ]
    },
    {
      "cell_type": "code",
      "execution_count": null,
      "metadata": {},
      "outputs": [],
      "source": [
        "# 2️ Cargar modelo y clases\n",
        "model = load_model('modelo_cultivos.h5')\n",
        "classes = np.load('classes.npy', allow_pickle=True).item()\n",
        "inv_classes = {v: k for k, v in classes.items()}\n",
        "img_size = (128, 128)\n",
        "print(f'Modelo cargado correctamente con {len(classes)} clases.')"
      ]
    },
    {
      "cell_type": "code",
      "execution_count": null,
      "metadata": {},
      "outputs": [],
      "source": [
        "# 3️ Crear interfaz con Tkinter\n",
        "root = Tk()\n",
        "root.title('Predicción de Enfermedades en Hojas')\n",
        "root.geometry('400x500')\n",
        "\n",
        "label_img = Label(root)\n",
        "label_img.pack(pady=10)\n",
        "\n",
        "label_result = Label(root, text='', font=('Arial', 14))\n",
        "label_result.pack(pady=10)\n",
        "\n",
        "def seleccionar_imagen():\n",
        "    file_path = filedialog.askopenfilename(\n",
        "        filetypes=[('Imagenes', '*.jpg *.jpeg *.png *.bmp')]\n",
        "    )\n",
        "    if not file_path:\n",
        "        return\n",
        "\n",
        "    # Mostrar imagen seleccionada\n",
        "    img = Image.open(file_path)\n",
        "    img_resized = img.resize((250, 250))\n",
        "    img_tk = ImageTk.PhotoImage(img_resized)\n",
        "    label_img.config(image=img_tk)\n",
        "    label_img.image = img_tk\n",
        "\n",
        "    # Preprocesamiento\n",
        "    img_array = image.load_img(file_path, target_size=img_size)\n",
        "    img_array = image.img_to_array(img_array)\n",
        "    img_array = np.expand_dims(img_array, axis=0) / 255.0\n",
        "\n",
        "    # Predicción\n",
        "    pred = model.predict(img_array)\n",
        "    idx = np.argmax(pred)\n",
        "    class_name = inv_classes[idx]\n",
        "    confidence = pred[0][idx] * 100\n",
        "\n",
        "    label_result.config(text=f'{class_name}\\nConfianza: {confidence:.2f}%')\n",
        "\n",
        "btn_select = Button(root, text='Seleccionar imagen', command=seleccionar_imagen, font=('Arial', 12))\n",
        "btn_select.pack(pady=20)\n",
        "\n",
        "root.mainloop()"
      ]
    },
    {
      "cell_type": "markdown",
      "metadata": {},
      "source": [
        " **Uso:**\n",
        "1. Ejecuta todas las celdas.\n",
        "2. Se abrirá una ventana.\n",
        "3. Pulsa **Seleccionar imagen** y elige una hoja.\n",
        "4. Verás la imagen y el resultado (nombre de la clase + porcentaje de confianza).\n"
      ]
    }
  ],
  "metadata": {
    "kernelspec": {
      "display_name": "Python 3",
      "language": "python",
      "name": "python3"
    },
    "language_info": {
      "name": "python",
      "version": "3.x"
    }
  },
  "nbformat": 4,
  "nbformat_minor": 5
}
